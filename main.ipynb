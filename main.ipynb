{
 "cells": [
  {
   "cell_type": "code",
   "execution_count": null,
   "id": "d62ab134-062a-4076-8206-0f15087f94cc",
   "metadata": {},
   "outputs": [],
   "source": [
    "import numpy as np\n",
    "import pandas as pd\n",
    "import matplotlib.pyplot as plt \n",
    "import seaborn as sns \n",
    "df=pd.read_csv(\"C:/Users/igara/Ironhack Bootcamp/Bootcamp ironhack week2/lab-eda-univariate/Data/amz_uk_price_prediction_dataset.csv\")"
   ]
  },
  {
   "cell_type": "code",
   "execution_count": null,
   "id": "22a958d4-2aa4-40a8-8d4e-e7e92f0c7a8a",
   "metadata": {},
   "outputs": [],
   "source": [
    "df.head()"
   ]
  },
  {
   "cell_type": "code",
   "execution_count": null,
   "id": "6a22c6dc-08d8-48b9-9232-72069aa666e6",
   "metadata": {},
   "outputs": [],
   "source": [
    "df_valuecont=df[\"category\"].value_counts()\n",
    "print(df_valuecont)"
   ]
  },
  {
   "cell_type": "code",
   "execution_count": null,
   "id": "83075394-4d17-4240-8312-97cdad6bc3c4",
   "metadata": {},
   "outputs": [],
   "source": [
    "df_tabla=pd.crosstab(df[\"title\"],\"category\")"
   ]
  },
  {
   "cell_type": "code",
   "execution_count": null,
   "id": "9696ba7f-5f8f-4b4e-b27b-b9d54d0c93e9",
   "metadata": {},
   "outputs": [],
   "source": [
    "df_tabla"
   ]
  },
  {
   "cell_type": "code",
   "execution_count": null,
   "id": "10e1d12b-aa4f-4103-959f-33475676c165",
   "metadata": {},
   "outputs": [],
   "source": [
    "top5=pd.DataFrame(df[\"category\"].value_counts().head(5))\n",
    "top5"
   ]
  },
  {
   "cell_type": "code",
   "execution_count": null,
   "id": "62aa4d7c-5cc6-41d3-b6ee-fb3aefc134d6",
   "metadata": {},
   "outputs": [],
   "source": [
    "sns.barplot(\n",
    "    x=\"category\",\n",
    "    hue='category',\n",
    "    y='count',\n",
    "    data=top5,\n",
    "    palette='viridis',\n",
    "    legend=True,\n",
    ")\n",
    "plt.show()"
   ]
  },
  {
   "cell_type": "code",
   "execution_count": null,
   "id": "046e1248-1350-4eac-a1e3-da5c2c633a38",
   "metadata": {},
   "outputs": [],
   "source": [
    "top5.plot.pie(y='count',autopct='%1.4f%%' ,startangle=90, colors=sns.color_palette('Set1'))\n",
    "plt.show()"
   ]
  },
  {
   "cell_type": "code",
   "execution_count": null,
   "id": "35203d11-e163-4836-afc8-b356c25da687",
   "metadata": {},
   "outputs": [],
   "source": [
    "round(df[\"price\"].mean(),2)"
   ]
  },
  {
   "cell_type": "code",
   "execution_count": null,
   "id": "a9281802-f07a-4b1d-b3ce-7aa931c990ea",
   "metadata": {},
   "outputs": [],
   "source": [
    "round(df[\"price\"].median(),2)"
   ]
  },
  {
   "cell_type": "code",
   "execution_count": null,
   "id": "588b6bdb-fb2c-4640-8566-cc539f2048ff",
   "metadata": {},
   "outputs": [],
   "source": [
    "round(df[\"price\"].mode(),2)"
   ]
  },
  {
   "cell_type": "code",
   "execution_count": null,
   "id": "e9990d10-5ab0-415d-8a8d-11e313f2380b",
   "metadata": {},
   "outputs": [],
   "source": [
    "\"\"\"\n",
    "What's the average price point of products listed? How does this compare with the most common price point (mode)?\n",
    "the avarage price of the products listed is 89.24, it has a huge difference from the mode since the mode is 9.99 so it is 80 dollars less than the \n",
    "avarage\n",
    "\"\"\""
   ]
  },
  {
   "cell_type": "code",
   "execution_count": null,
   "id": "0b3ed6a2-d44c-403c-824d-b4ef3a8ee4ee",
   "metadata": {},
   "outputs": [],
   "source": [
    "round(df[\"price\"].var(),2)"
   ]
  },
  {
   "cell_type": "code",
   "execution_count": null,
   "id": "5ee48221-fac0-465c-bdbb-4d0f70e93541",
   "metadata": {},
   "outputs": [],
   "source": [
    "round(df[\"price\"].std(),2)"
   ]
  },
  {
   "cell_type": "code",
   "execution_count": null,
   "id": "e472fb9c-9ecc-4c7b-b32b-d2299de36686",
   "metadata": {},
   "outputs": [],
   "source": [
    "rango=max(df[\"price\"])-min(df[\"price\"])\n",
    "rango"
   ]
  },
  {
   "cell_type": "code",
   "execution_count": null,
   "id": "000b0863-befe-4905-b8b7-9c28547b623a",
   "metadata": {},
   "outputs": [],
   "source": [
    "q1=df[\"price\"].quantile(.25)\n",
    "q3=df[\"price\"].quantile(.75)\n",
    "iqr2=q3-q1\n",
    "iqr2"
   ]
  },
  {
   "cell_type": "code",
   "execution_count": null,
   "id": "b7584c90-e362-469e-9939-1b4cc55a7ceb",
   "metadata": {},
   "outputs": [],
   "source": [
    "iqr=df[\"price\"].quantile(.50)\n",
    "iqr\n",
    "#no se cual es el correcto"
   ]
  },
  {
   "cell_type": "code",
   "execution_count": null,
   "id": "25caea67-1665-448d-92bd-89848d59ce0b",
   "metadata": {},
   "outputs": [],
   "source": [
    "sns.histplot(df[\"price\"], bins=\"auto\")\n",
    "plt.show()"
   ]
  },
  {
   "cell_type": "code",
   "execution_count": null,
   "id": "d62448e8-ebb9-4fe2-b6fe-c4b329be4941",
   "metadata": {},
   "outputs": [],
   "source": [
    "\"\"\"\n",
    "How varied are the product prices? Are there any indicators of a significant spread in prices?\n",
    "when i compare the standard deviation to the median the standar deviation is really high wich means there are extreme values\n",
    "also the range that is 100000 analizing the data separately it goes from max 100000 to 0 which means there are extreme values in the data.\n",
    "Also the iqr is 36 which means 50 porcent of the products in avarage is 36 .\n",
    "\"\"\""
   ]
  },
  {
   "cell_type": "code",
   "execution_count": null,
   "id": "fa674ad5-e201-4efb-adde-03bf7727d42d",
   "metadata": {},
   "outputs": [],
   "source": [
    "round(df[\"stars\"].mean(),2)"
   ]
  },
  {
   "cell_type": "code",
   "execution_count": null,
   "id": "275d8be4-434d-4ee4-add0-02f63698b6b4",
   "metadata": {},
   "outputs": [],
   "source": [
    "round(df[\"stars\"].median(),2)"
   ]
  },
  {
   "cell_type": "code",
   "execution_count": null,
   "id": "b0aea30d-e77c-4d61-8776-eeaea1f2e47d",
   "metadata": {},
   "outputs": [],
   "source": [
    "round(df[\"stars\"].mode(),2)"
   ]
  },
  {
   "cell_type": "code",
   "execution_count": null,
   "id": "73bf2237-68eb-4510-a9c7-fd986a9f1e44",
   "metadata": {},
   "outputs": [],
   "source": [
    "\"\"\"\n",
    "How do customers generally rate products? Is there a common trend?\n",
    "in avarage they rate the products 2.15 stars "
   ]
  },
  {
   "cell_type": "code",
   "execution_count": null,
   "id": "4b708900-2fa4-40cc-b0af-3abea608c9b9",
   "metadata": {},
   "outputs": [],
   "source": [
    "round(df[\"stars\"].skew(), 2)"
   ]
  },
  {
   "cell_type": "code",
   "execution_count": null,
   "id": "8c04d407-7522-4af3-bb87-83e64a37d314",
   "metadata": {},
   "outputs": [],
   "source": [
    "round(df[\"stars\"].kurtosis(), 2)"
   ]
  },
  {
   "cell_type": "code",
   "execution_count": null,
   "id": "c2d3eea4-cedd-4ec5-bcd5-48fe2a5ee0aa",
   "metadata": {},
   "outputs": [],
   "source": [
    "\"\"\"\n",
    "Are the ratings normally distributed, or do they lean towards higher or lower values?\n",
    "it has a right tailed because the skew is positive but is also near to 0 which means its almost symetric\n",
    "and the kurtosis is negative which means it has no extreme values which mean it leans to medium values\n",
    "\"\"\""
   ]
  },
  {
   "cell_type": "code",
   "execution_count": null,
   "id": "4347688b-acd2-450d-a681-04fac85a7a70",
   "metadata": {},
   "outputs": [],
   "source": [
    "sns.histplot(df[\"stars\"], bins=\"auto\")\n",
    "plt.show()"
   ]
  },
  {
   "cell_type": "code",
   "execution_count": null,
   "id": "c901d03c-7db7-4a9c-aa91-cf2841a3c10f",
   "metadata": {},
   "outputs": [],
   "source": [
    "\"\"\"\n",
    "Is there a specific rating that is more common?\n",
    "yes 0, which means they normaly dont put stars in the product \n",
    "\"\"\""
   ]
  }
 ],
 "metadata": {
  "kernelspec": {
   "display_name": "Python 3 (ipykernel)",
   "language": "python",
   "name": "python3"
  },
  "language_info": {
   "codemirror_mode": {
    "name": "ipython",
    "version": 3
   },
   "file_extension": ".py",
   "mimetype": "text/x-python",
   "name": "python",
   "nbconvert_exporter": "python",
   "pygments_lexer": "ipython3",
   "version": "3.12.7"
  }
 },
 "nbformat": 4,
 "nbformat_minor": 5
}
